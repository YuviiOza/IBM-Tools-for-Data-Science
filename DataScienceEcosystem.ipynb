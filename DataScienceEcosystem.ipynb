{
 "cells": [
  {
   "cell_type": "markdown",
   "id": "f9799add-420b-499c-a281-574000d85a11",
   "metadata": {},
   "source": [
    "# Data Science Tools and Ecosystem "
   ]
  },
  {
   "cell_type": "markdown",
   "id": "164cfae7-102c-44b7-b88c-4bedad7c63ff",
   "metadata": {},
   "source": [
    "In this notebook, Data Science Tools and Ecosystem are summarized."
   ]
  },
  {
   "cell_type": "markdown",
   "id": "c50564a6-cc49-4d7a-b676-3db9c874a528",
   "metadata": {},
   "source": [
    "**Objectives:**\n",
    "* Popular programing laguanges used by data scientists \n",
    "* Libraries used by data scientists\n",
    "* Tools used by data scientists"
   ]
  },
  {
   "cell_type": "markdown",
   "id": "acb10af6-c4f1-4250-8afe-c2baca05eb67",
   "metadata": {},
   "source": [
    "Some of the popular languages that Data Scientists use are:\n",
    "1. Python\n",
    "2. Julia\n",
    "3. R"
   ]
  },
  {
   "cell_type": "markdown",
   "id": "90f53c39-3177-4ea1-b09e-b364e36df0b5",
   "metadata": {},
   "source": [
    "Some of the commonly used libraries used by Data Scientists include:\n",
    "1. Pandas\n",
    "2. Numpy\n",
    "3. Matplotlib,\n",
    "4. Sckitlearn\n",
    "5. Keras"
   ]
  },
  {
   "cell_type": "markdown",
   "id": "5a399c8a-88f9-4a0c-b9dd-c18dd6957039",
   "metadata": {},
   "source": [
    "|Data Science Tools|\n",
    "|------------------|\n",
    "|Jupyter Notebook|\n",
    "|RStudio|\n",
    "|Apache Spark|"
   ]
  },
  {
   "cell_type": "markdown",
   "id": "0bbc78dc-3d3a-4cbc-b1dd-a4c250f73adc",
   "metadata": {},
   "source": [
    "### Below are a few examples of evaluating arithmetic expressions in Python"
   ]
  },
  {
   "cell_type": "code",
   "execution_count": 4,
   "id": "8b43e7bd-389a-43bd-8237-1b2303810cea",
   "metadata": {
    "tags": []
   },
   "outputs": [
    {
     "data": {
      "text/plain": [
       "17"
      ]
     },
     "execution_count": 4,
     "metadata": {},
     "output_type": "execute_result"
    }
   ],
   "source": [
    "# This a simple arithmetic expression to mutiply then add integers\n",
    "(3*4)+5"
   ]
  },
  {
   "cell_type": "code",
   "execution_count": 6,
   "id": "b94a1b61-5edf-4035-bb26-2260e18fc206",
   "metadata": {
    "tags": []
   },
   "outputs": [
    {
     "name": "stdout",
     "output_type": "stream",
     "text": [
      "3.3333333333333335\n"
     ]
    }
   ],
   "source": [
    "# This will convert 200 minutes to hours by diving by 60\n",
    "minutes = 200\n",
    "hours = minutes/60\n",
    "print(hours)"
   ]
  },
  {
   "cell_type": "markdown",
   "id": "bd171dd5-667f-4efa-9edc-ba751289afa8",
   "metadata": {},
   "source": [
    "## Author\n",
    "Yuvraj Oza"
   ]
  }
 ],
 "metadata": {
  "kernelspec": {
   "display_name": "Python",
   "language": "python",
   "name": "conda-env-python-py"
  },
  "language_info": {
   "codemirror_mode": {
    "name": "ipython",
    "version": 3
   },
   "file_extension": ".py",
   "mimetype": "text/x-python",
   "name": "python",
   "nbconvert_exporter": "python",
   "pygments_lexer": "ipython3",
   "version": "3.7.12"
  }
 },
 "nbformat": 4,
 "nbformat_minor": 5
}
